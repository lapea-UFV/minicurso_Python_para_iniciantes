{
  "nbformat": 4,
  "nbformat_minor": 0,
  "metadata": {
    "colab": {
      "name": "Copy of CursoPython.ipynb",
      "provenance": []
    },
    "kernelspec": {
      "name": "python3",
      "display_name": "Python 3"
    },
    "language_info": {
      "name": "python"
    }
  },
  "cells": [
    {
      "cell_type": "markdown",
      "metadata": {
        "id": "W6SxSa68_Wof"
      },
      "source": [
        "![Sem Título-4.png](data:image/png;base64,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)"
      ]
    },
    {
      "cell_type": "markdown",
      "metadata": {
        "id": "_Mr3x27BFgHc"
      },
      "source": [
        "# **Objetivo do curso:**\n",
        "\n",
        "* Entender o Colab;\n",
        "* Entender alguns conceitos fundamentais da linguagem;\n",
        "* Aprender a importar arquivos do drive e do computador;\n",
        "* Fazer uma analise descritiva de dados com o Pandas;\n",
        "* Fazer gráficos da função Normal utilizando Matplotlib e o Numpy.\n"
      ]
    },
    {
      "cell_type": "markdown",
      "metadata": {
        "id": "mHSA67WbNf9x"
      },
      "source": [
        "# **Primeiros passos no Python** "
      ]
    },
    {
      "cell_type": "markdown",
      "metadata": {
        "id": "-zmrz0lOcRQ2"
      },
      "source": [
        "### **Variáveis e tipos de dados**\n"
      ]
    },
    {
      "cell_type": "markdown",
      "metadata": {
        "id": "ndcnzVveRkvM"
      },
      "source": [
        "Variáveis em Python são estruturas que conseguem armazenar valores que lhe são\n",
        "atribuídos. Então, para definir uma variável precisa-se criar um nome e em seguida\n",
        "indicar o valor que será armazenado através do símbolo de igualdade.\n",
        "\n",
        "Os dados armazenados em variáveis podem ser classificados em 7 grupos principais:"
      ]
    },
    {
      "cell_type": "markdown",
      "metadata": {
        "id": "Yq3aeXIcSAhg"
      },
      "source": [
        "![image.png](data:image/png;base64,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)"
      ]
    },
    {
      "cell_type": "markdown",
      "metadata": {
        "id": "yXiTdi-iVQX4"
      },
      "source": [
        "Porém, neste curso destacaremos os tipos texto, numérico, sequência (lista e tupla) e dicionário.\n"
      ]
    },
    {
      "cell_type": "code",
      "metadata": {
        "id": "MJrC5l9ENnah"
      },
      "source": [
        "#Texto"
      ],
      "execution_count": null,
      "outputs": []
    },
    {
      "cell_type": "code",
      "metadata": {
        "colab": {
          "base_uri": "https://localhost:8080/",
          "height": 35
        },
        "id": "kpeas3i-z_2G",
        "outputId": "f4d497be-28ce-4342-b661-65670b82c52c"
      },
      "source": [
        "texto = \"Olá pt\"\n",
        "texto"
      ],
      "execution_count": null,
      "outputs": [
        {
          "output_type": "execute_result",
          "data": {
            "application/vnd.google.colaboratory.intrinsic+json": {
              "type": "string"
            },
            "text/plain": [
              "'Olá pt'"
            ]
          },
          "metadata": {
            "tags": []
          },
          "execution_count": 4
        }
      ]
    },
    {
      "cell_type": "code",
      "metadata": {
        "id": "qQQ09d8VcGcY"
      },
      "source": [
        "#Inteiro"
      ],
      "execution_count": null,
      "outputs": []
    },
    {
      "cell_type": "code",
      "metadata": {
        "colab": {
          "base_uri": "https://localhost:8080/"
        },
        "id": "sMwIqyfi0b6m",
        "outputId": "f66de9a7-5d51-4294-8196-98294d8f51f1"
      },
      "source": [
        "inteiro = 10\n",
        "inteiro"
      ],
      "execution_count": null,
      "outputs": [
        {
          "output_type": "execute_result",
          "data": {
            "text/plain": [
              "10"
            ]
          },
          "metadata": {
            "tags": []
          },
          "execution_count": 5
        }
      ]
    },
    {
      "cell_type": "code",
      "metadata": {
        "id": "DSblfALSbFco"
      },
      "source": [
        "#Decimal"
      ],
      "execution_count": null,
      "outputs": []
    },
    {
      "cell_type": "code",
      "metadata": {
        "colab": {
          "base_uri": "https://localhost:8080/"
        },
        "id": "dzLuox_q0kYe",
        "outputId": "f1d6b45c-a467-4851-bf39-bd0755ae716f"
      },
      "source": [
        "dec = 0.5\n",
        "dec"
      ],
      "execution_count": null,
      "outputs": [
        {
          "output_type": "execute_result",
          "data": {
            "text/plain": [
              "0.5"
            ]
          },
          "metadata": {
            "tags": []
          },
          "execution_count": 6
        }
      ]
    },
    {
      "cell_type": "markdown",
      "metadata": {
        "id": "SGijqveBcbmN"
      },
      "source": [
        "**Tuplas e listas**"
      ]
    },
    {
      "cell_type": "code",
      "metadata": {
        "id": "589A-nIGcjWV"
      },
      "source": [
        "#Tupla"
      ],
      "execution_count": null,
      "outputs": []
    },
    {
      "cell_type": "code",
      "metadata": {
        "colab": {
          "base_uri": "https://localhost:8080/"
        },
        "id": "CO0wdfdb0xhb",
        "outputId": "9498d098-b3a8-4dac-cd04-9e56065c5530"
      },
      "source": [
        "tupla = (45,85,56,-9)\n",
        "tupla"
      ],
      "execution_count": null,
      "outputs": [
        {
          "output_type": "execute_result",
          "data": {
            "text/plain": [
              "(45, 85, 56, -9)"
            ]
          },
          "metadata": {
            "tags": []
          },
          "execution_count": 7
        }
      ]
    },
    {
      "cell_type": "code",
      "metadata": {
        "id": "JHC2gKOhcJOO",
        "colab": {
          "base_uri": "https://localhost:8080/"
        },
        "outputId": "2bbf1e5a-a0f6-4e5a-aba2-59c3460f2c91"
      },
      "source": [
        "#Lista\n",
        "lista = [45,85,56,-9]\n",
        "lista\n"
      ],
      "execution_count": null,
      "outputs": [
        {
          "output_type": "execute_result",
          "data": {
            "text/plain": [
              "[45, 85, 56, -9]"
            ]
          },
          "metadata": {
            "tags": []
          },
          "execution_count": 15
        }
      ]
    },
    {
      "cell_type": "markdown",
      "metadata": {
        "id": "Bgn_9CzmbmKu"
      },
      "source": [
        "![image.png](data:image/png;base64,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)"
      ]
    },
    {
      "cell_type": "markdown",
      "metadata": {
        "id": "Dwc7FWCjWGqN"
      },
      "source": [
        "**Acessando valores de listas através dos índices**"
      ]
    },
    {
      "cell_type": "code",
      "metadata": {
        "colab": {
          "base_uri": "https://localhost:8080/"
        },
        "id": "WRBFOR0qfcqy",
        "outputId": "f5000304-dcd3-4b02-e97d-6483ba1dedd6"
      },
      "source": [
        "lista"
      ],
      "execution_count": null,
      "outputs": [
        {
          "output_type": "execute_result",
          "data": {
            "text/plain": [
              "[45, 85, 56, -9]"
            ]
          },
          "metadata": {
            "tags": []
          },
          "execution_count": 16
        }
      ]
    },
    {
      "cell_type": "code",
      "metadata": {
        "colab": {
          "base_uri": "https://localhost:8080/"
        },
        "id": "gcl_5sajWirf",
        "outputId": "64dbfc4d-961f-480c-8375-8358056b1ad6"
      },
      "source": [
        "lista[-2]"
      ],
      "execution_count": null,
      "outputs": [
        {
          "output_type": "execute_result",
          "data": {
            "text/plain": [
              "56"
            ]
          },
          "metadata": {
            "tags": []
          },
          "execution_count": 21
        }
      ]
    },
    {
      "cell_type": "markdown",
      "metadata": {
        "id": "gOogYzyvwxD0"
      },
      "source": [
        "**Dicionário**"
      ]
    },
    {
      "cell_type": "code",
      "metadata": {
        "id": "TIL8QG_Jw1JD"
      },
      "source": [
        "#Dicionário"
      ],
      "execution_count": null,
      "outputs": []
    },
    {
      "cell_type": "code",
      "metadata": {
        "id": "WCohIZzJyFjb"
      },
      "source": [
        "dic = {'Nome':['Philipe', 'Matheus', 'Caio'], 'Universidade':\"UFV\", 'Idade':96}"
      ],
      "execution_count": null,
      "outputs": []
    },
    {
      "cell_type": "code",
      "metadata": {
        "colab": {
          "base_uri": "https://localhost:8080/",
          "height": 35
        },
        "id": "i3fUorZnySfT",
        "outputId": "2d8112c8-6451-4a9c-a58e-bcc44f4f44b5"
      },
      "source": [
        "dic['Nome'][2]"
      ],
      "execution_count": null,
      "outputs": [
        {
          "output_type": "execute_result",
          "data": {
            "application/vnd.google.colaboratory.intrinsic+json": {
              "type": "string"
            },
            "text/plain": [
              "'Caio'"
            ]
          },
          "metadata": {
            "tags": []
          },
          "execution_count": 27
        }
      ]
    },
    {
      "cell_type": "code",
      "metadata": {
        "colab": {
          "base_uri": "https://localhost:8080/"
        },
        "id": "yEXR3m8gyY6h",
        "outputId": "656b81d3-4193-4187-a036-6992492da921"
      },
      "source": [
        "lista\n",
        "tupla"
      ],
      "execution_count": null,
      "outputs": [
        {
          "output_type": "execute_result",
          "data": {
            "text/plain": [
              "(45, 85, 56, -9)"
            ]
          },
          "metadata": {
            "tags": []
          },
          "execution_count": 29
        }
      ]
    },
    {
      "cell_type": "markdown",
      "metadata": {
        "id": "V9y9HqpLc8ck"
      },
      "source": [
        "### **Funções internas do Python**"
      ]
    },
    {
      "cell_type": "markdown",
      "metadata": {
        "id": "9zoUPfnGW9Xa"
      },
      "source": [
        "O interpretador do Python possui várias funções e embutidos que estão disponíveis. O link abaixo é referente a documentação dessas funções:\n",
        "\n",
        "[Funções embutidas](https://docs.python.org/pt-br/3/library/functions.html#pow)"
      ]
    },
    {
      "cell_type": "code",
      "metadata": {
        "colab": {
          "base_uri": "https://localhost:8080/"
        },
        "id": "nFu0WRkIR4wK",
        "outputId": "0420f3d8-78fc-44c2-b6dd-1e12b2afb8ad"
      },
      "source": [
        "print(lista)\n",
        "print(tupla)"
      ],
      "execution_count": null,
      "outputs": [
        {
          "output_type": "stream",
          "text": [
            "[45, 85, 56, -9]\n",
            "(45, 85, 56, -9)\n"
          ],
          "name": "stdout"
        }
      ]
    },
    {
      "cell_type": "code",
      "metadata": {
        "colab": {
          "base_uri": "https://localhost:8080/"
        },
        "id": "Mv1BDl6oSZwT",
        "outputId": "2d3ed5ac-3a8f-47fd-d160-9f4f24574418"
      },
      "source": [
        "maximo = max(lista)\n",
        "maximo"
      ],
      "execution_count": null,
      "outputs": [
        {
          "output_type": "execute_result",
          "data": {
            "text/plain": [
              "85"
            ]
          },
          "metadata": {
            "tags": []
          },
          "execution_count": 32
        }
      ]
    },
    {
      "cell_type": "code",
      "metadata": {
        "colab": {
          "base_uri": "https://localhost:8080/"
        },
        "id": "Ty8Tlo6Y5qwP",
        "outputId": "3811fbfb-d0fa-463b-e310-dacd86264a9a"
      },
      "source": [
        "minimo = min(lista)\n",
        "minimo"
      ],
      "execution_count": null,
      "outputs": [
        {
          "output_type": "execute_result",
          "data": {
            "text/plain": [
              "-9"
            ]
          },
          "metadata": {
            "tags": []
          },
          "execution_count": 33
        }
      ]
    },
    {
      "cell_type": "code",
      "metadata": {
        "colab": {
          "base_uri": "https://localhost:8080/"
        },
        "id": "o3CmmRqo52gX",
        "outputId": "02a9daa6-a68b-4dad-edfa-f704a19b32c9"
      },
      "source": [
        "tamanho = len(lista)\n",
        "tamanho"
      ],
      "execution_count": null,
      "outputs": [
        {
          "output_type": "execute_result",
          "data": {
            "text/plain": [
              "4"
            ]
          },
          "metadata": {
            "tags": []
          },
          "execution_count": 34
        }
      ]
    },
    {
      "cell_type": "markdown",
      "metadata": {
        "id": "VXeiZAn2Uw4d"
      },
      "source": [
        "### **Operadores Matemáticos**\n",
        "\n",
        "* soma = +\n",
        "* subtração = -\n",
        "* Multiplicação = *\n",
        "* Divisão = /\n",
        "* Truncamento da divisão = //\n",
        "* Resto da divisão = %"
      ]
    },
    {
      "cell_type": "code",
      "metadata": {
        "colab": {
          "base_uri": "https://localhost:8080/"
        },
        "id": "IWz6_zhuVZIY",
        "outputId": "8c75f874-90b5-44fc-da8c-42d6b1ef497e"
      },
      "source": [
        "# Exemplo\n",
        "10 // 3"
      ],
      "execution_count": null,
      "outputs": [
        {
          "output_type": "execute_result",
          "data": {
            "text/plain": [
              "3"
            ]
          },
          "metadata": {
            "tags": []
          },
          "execution_count": 41
        }
      ]
    },
    {
      "cell_type": "markdown",
      "metadata": {
        "id": "V6AcxloeOpPl"
      },
      "source": [
        "### **Funções**"
      ]
    },
    {
      "cell_type": "markdown",
      "metadata": {
        "id": "lIuKH9Aicyye"
      },
      "source": [
        "Funções são agrupamento de comandos que executam tarefas e que facilitam a organização do código. "
      ]
    },
    {
      "cell_type": "code",
      "metadata": {
        "id": "Mz5x8Wbl7Ok-"
      },
      "source": [
        "def imprimir():\n",
        "  print('Lapea')"
      ],
      "execution_count": null,
      "outputs": []
    },
    {
      "cell_type": "code",
      "metadata": {
        "colab": {
          "base_uri": "https://localhost:8080/"
        },
        "id": "qLw8ZV087peX",
        "outputId": "6e3574bf-c037-487d-dbeb-c7e03c923424"
      },
      "source": [
        "imprimir()"
      ],
      "execution_count": null,
      "outputs": [
        {
          "output_type": "stream",
          "text": [
            "Lapea\n"
          ],
          "name": "stdout"
        }
      ]
    },
    {
      "cell_type": "code",
      "metadata": {
        "id": "BJaj9KTX7xeE"
      },
      "source": [
        "# Definindo funções\n",
        "\n",
        "def LAPEA():\n",
        "  print('Laboratório de Análise e Pesquisa em Estatística Aplicada')"
      ],
      "execution_count": null,
      "outputs": []
    },
    {
      "cell_type": "code",
      "metadata": {
        "colab": {
          "base_uri": "https://localhost:8080/"
        },
        "id": "QyquZFot8ZE6",
        "outputId": "95313fea-8f1a-4259-e853-c39d8e405448"
      },
      "source": [
        "LAPEA()"
      ],
      "execution_count": null,
      "outputs": [
        {
          "output_type": "stream",
          "text": [
            "Laboratório de Análise e Pesquisa em Estatística Aplicada\n"
          ],
          "name": "stdout"
        }
      ]
    },
    {
      "cell_type": "code",
      "metadata": {
        "id": "arT_F__eGnl1"
      },
      "source": [
        "def f(x):\n",
        "  return x**3"
      ],
      "execution_count": null,
      "outputs": []
    },
    {
      "cell_type": "code",
      "metadata": {
        "colab": {
          "base_uri": "https://localhost:8080/"
        },
        "id": "lr4YAteR8WtW",
        "outputId": "dab024c7-ddf8-4311-c7a7-348bb6e3ab68"
      },
      "source": [
        "f(2)"
      ],
      "execution_count": null,
      "outputs": [
        {
          "output_type": "execute_result",
          "data": {
            "text/plain": [
              "8"
            ]
          },
          "metadata": {
            "tags": []
          },
          "execution_count": 48
        }
      ]
    },
    {
      "cell_type": "markdown",
      "metadata": {
        "id": "N1_scjiFN4pn"
      },
      "source": [
        "# Exemplo 1: Análise descritiva de dados"
      ]
    },
    {
      "cell_type": "markdown",
      "metadata": {
        "id": "Sz9CI6HLjEJV"
      },
      "source": [
        "**Objetivo:**\n",
        "1. Importar o conjunto de dados para o Colab;\n",
        "2. Importar os dados em formato tabela utilizando o Pandas;\n",
        "3. Cálcular a média e o desvio-padrão;\n",
        "4. Gerar um histograma"
      ]
    },
    {
      "cell_type": "markdown",
      "metadata": {
        "id": "PKNnbG8V-18O"
      },
      "source": [
        "**Pandas**\n",
        "\n",
        "Pandas é a principal biblioteca utilizada para trabalhar com manipulação de conjuntos de \n",
        "dados em Python, pois possui funcionalidades de limpeza, manipulação e exploração de \n",
        "dados de diferentes fontes. O nome Pandas vem de painel de dados e foi criado em 2008 \n",
        "por Wes McKinney para análises de dados financeiros."
      ]
    },
    {
      "cell_type": "code",
      "metadata": {
        "id": "aH_I_2XBOFV-"
      },
      "source": [
        "# Importando a biblioteca Pandas\n",
        "import pandas as pd"
      ],
      "execution_count": null,
      "outputs": []
    },
    {
      "cell_type": "code",
      "metadata": {
        "id": "GUDE2sFpOp6X",
        "colab": {
          "base_uri": "https://localhost:8080/"
        },
        "outputId": "6feff7bb-acdd-4534-962a-3a87fce9132f"
      },
      "source": [
        "# Lendo o arquivo Excel\n",
        "df = pd.read_excel(\"Peso.xlsx\")\n",
        "len(df)"
      ],
      "execution_count": null,
      "outputs": [
        {
          "output_type": "execute_result",
          "data": {
            "text/plain": [
              "100"
            ]
          },
          "metadata": {
            "tags": []
          },
          "execution_count": 52
        }
      ]
    },
    {
      "cell_type": "code",
      "metadata": {
        "colab": {
          "base_uri": "https://localhost:8080/",
          "height": 203
        },
        "id": "bDVF0eF4PzLt",
        "outputId": "0f6781d2-2948-471b-96b0-3dee89640f7a"
      },
      "source": [
        "# Mostrando as 5 primeiras linhas\n",
        "df.head()"
      ],
      "execution_count": null,
      "outputs": [
        {
          "output_type": "execute_result",
          "data": {
            "text/html": [
              "<div>\n",
              "<style scoped>\n",
              "    .dataframe tbody tr th:only-of-type {\n",
              "        vertical-align: middle;\n",
              "    }\n",
              "\n",
              "    .dataframe tbody tr th {\n",
              "        vertical-align: top;\n",
              "    }\n",
              "\n",
              "    .dataframe thead th {\n",
              "        text-align: right;\n",
              "    }\n",
              "</style>\n",
              "<table border=\"1\" class=\"dataframe\">\n",
              "  <thead>\n",
              "    <tr style=\"text-align: right;\">\n",
              "      <th></th>\n",
              "      <th>Peso A</th>\n",
              "      <th>Peso B</th>\n",
              "    </tr>\n",
              "  </thead>\n",
              "  <tbody>\n",
              "    <tr>\n",
              "      <th>0</th>\n",
              "      <td>18.64997</td>\n",
              "      <td>23.31820</td>\n",
              "    </tr>\n",
              "    <tr>\n",
              "      <th>1</th>\n",
              "      <td>18.98428</td>\n",
              "      <td>25.77500</td>\n",
              "    </tr>\n",
              "    <tr>\n",
              "      <th>2</th>\n",
              "      <td>18.80290</td>\n",
              "      <td>29.62936</td>\n",
              "    </tr>\n",
              "    <tr>\n",
              "      <th>3</th>\n",
              "      <td>20.48694</td>\n",
              "      <td>24.57665</td>\n",
              "    </tr>\n",
              "    <tr>\n",
              "      <th>4</th>\n",
              "      <td>19.51427</td>\n",
              "      <td>26.42443</td>\n",
              "    </tr>\n",
              "  </tbody>\n",
              "</table>\n",
              "</div>"
            ],
            "text/plain": [
              "     Peso A    Peso B\n",
              "0  18.64997  23.31820\n",
              "1  18.98428  25.77500\n",
              "2  18.80290  29.62936\n",
              "3  20.48694  24.57665\n",
              "4  19.51427  26.42443"
            ]
          },
          "metadata": {
            "tags": []
          },
          "execution_count": 53
        }
      ]
    },
    {
      "cell_type": "code",
      "metadata": {
        "colab": {
          "base_uri": "https://localhost:8080/"
        },
        "id": "h7Ro4f2Vldf8",
        "outputId": "3b200617-59c5-42a0-cbc7-c4a6aaaf9c3e"
      },
      "source": [
        "# Verificando se há elementos nulos\n",
        "df.info()"
      ],
      "execution_count": null,
      "outputs": [
        {
          "output_type": "stream",
          "text": [
            "<class 'pandas.core.frame.DataFrame'>\n",
            "RangeIndex: 100 entries, 0 to 99\n",
            "Data columns (total 2 columns):\n",
            " #   Column  Non-Null Count  Dtype  \n",
            "---  ------  --------------  -----  \n",
            " 0   Peso A  100 non-null    float64\n",
            " 1   Peso B  100 non-null    float64\n",
            "dtypes: float64(2)\n",
            "memory usage: 1.7 KB\n"
          ],
          "name": "stdout"
        }
      ]
    },
    {
      "cell_type": "code",
      "metadata": {
        "colab": {
          "base_uri": "https://localhost:8080/"
        },
        "id": "1PTuui1PlqYs",
        "outputId": "210b2979-50d0-47fc-e75c-11ff749be43b"
      },
      "source": [
        "# cálculando a média \n",
        "md = df.mean()\n",
        "md\n"
      ],
      "execution_count": null,
      "outputs": [
        {
          "output_type": "execute_result",
          "data": {
            "text/plain": [
              "Peso A    20.077316\n",
              "Peso B    24.985691\n",
              "dtype: float64"
            ]
          },
          "metadata": {
            "tags": []
          },
          "execution_count": 58
        }
      ]
    },
    {
      "cell_type": "code",
      "metadata": {
        "colab": {
          "base_uri": "https://localhost:8080/"
        },
        "id": "h4z2YWF_nhTY",
        "outputId": "d330b642-c097-4f29-fde4-96fd1a83f7e0"
      },
      "source": [
        "# cálculando o desvio-padrão \n",
        "dp = df.std()\n",
        "dp"
      ],
      "execution_count": null,
      "outputs": [
        {
          "output_type": "execute_result",
          "data": {
            "text/plain": [
              "Peso A    1.038656\n",
              "Peso B    1.902704\n",
              "dtype: float64"
            ]
          },
          "metadata": {
            "tags": []
          },
          "execution_count": 59
        }
      ]
    },
    {
      "cell_type": "code",
      "metadata": {
        "colab": {
          "base_uri": "https://localhost:8080/",
          "height": 295
        },
        "id": "Q7C0Dy41HSN1",
        "outputId": "bb937d84-bf5c-461a-ac4e-0ff94b74bee6"
      },
      "source": [
        "# Sumarização dos dados\n",
        "df.describe()"
      ],
      "execution_count": null,
      "outputs": [
        {
          "output_type": "execute_result",
          "data": {
            "text/html": [
              "<div>\n",
              "<style scoped>\n",
              "    .dataframe tbody tr th:only-of-type {\n",
              "        vertical-align: middle;\n",
              "    }\n",
              "\n",
              "    .dataframe tbody tr th {\n",
              "        vertical-align: top;\n",
              "    }\n",
              "\n",
              "    .dataframe thead th {\n",
              "        text-align: right;\n",
              "    }\n",
              "</style>\n",
              "<table border=\"1\" class=\"dataframe\">\n",
              "  <thead>\n",
              "    <tr style=\"text-align: right;\">\n",
              "      <th></th>\n",
              "      <th>Peso A</th>\n",
              "      <th>Peso B</th>\n",
              "    </tr>\n",
              "  </thead>\n",
              "  <tbody>\n",
              "    <tr>\n",
              "      <th>count</th>\n",
              "      <td>100.000000</td>\n",
              "      <td>100.000000</td>\n",
              "    </tr>\n",
              "    <tr>\n",
              "      <th>mean</th>\n",
              "      <td>20.077316</td>\n",
              "      <td>24.985691</td>\n",
              "    </tr>\n",
              "    <tr>\n",
              "      <th>std</th>\n",
              "      <td>1.038656</td>\n",
              "      <td>1.902704</td>\n",
              "    </tr>\n",
              "    <tr>\n",
              "      <th>min</th>\n",
              "      <td>18.181390</td>\n",
              "      <td>20.206490</td>\n",
              "    </tr>\n",
              "    <tr>\n",
              "      <th>25%</th>\n",
              "      <td>19.299575</td>\n",
              "      <td>23.698707</td>\n",
              "    </tr>\n",
              "    <tr>\n",
              "      <th>50%</th>\n",
              "      <td>19.954215</td>\n",
              "      <td>25.062150</td>\n",
              "    </tr>\n",
              "    <tr>\n",
              "      <th>75%</th>\n",
              "      <td>20.679227</td>\n",
              "      <td>26.404263</td>\n",
              "    </tr>\n",
              "    <tr>\n",
              "      <th>max</th>\n",
              "      <td>23.088210</td>\n",
              "      <td>29.629360</td>\n",
              "    </tr>\n",
              "  </tbody>\n",
              "</table>\n",
              "</div>"
            ],
            "text/plain": [
              "           Peso A      Peso B\n",
              "count  100.000000  100.000000\n",
              "mean    20.077316   24.985691\n",
              "std      1.038656    1.902704\n",
              "min     18.181390   20.206490\n",
              "25%     19.299575   23.698707\n",
              "50%     19.954215   25.062150\n",
              "75%     20.679227   26.404263\n",
              "max     23.088210   29.629360"
            ]
          },
          "metadata": {
            "tags": []
          },
          "execution_count": 60
        }
      ]
    },
    {
      "cell_type": "code",
      "metadata": {
        "colab": {
          "base_uri": "https://localhost:8080/",
          "height": 223
        },
        "id": "L83WisuNly8L",
        "outputId": "dabe3587-7191-4b90-9be6-dd9dca5fbed7"
      },
      "source": [
        "# Construindo o histograma\n",
        "df.hist(figsize=(5,2))"
      ],
      "execution_count": null,
      "outputs": [
        {
          "output_type": "execute_result",
          "data": {
            "text/plain": [
              "array([[<matplotlib.axes._subplots.AxesSubplot object at 0x7f53d5c86350>,\n",
              "        <matplotlib.axes._subplots.AxesSubplot object at 0x7f53d5c35bd0>]],\n",
              "      dtype=object)"
            ]
          },
          "metadata": {
            "tags": []
          },
          "execution_count": 64
        },
        {
          "output_type": "display_data",
          "data": {
            "image/png": "[encoded data removed]",
            "text/plain": [
              "<Figure size 360x144 with 2 Axes>"
            ]
          },
          "metadata": {
            "tags": [],
            "needs_background": "light"
          }
        }
      ]
    },
    {
      "cell_type": "markdown",
      "metadata": {
        "id": "8VJV80_Dmm_h"
      },
      "source": [
        "# Gráficos da função Normal"
      ]
    },
    {
      "cell_type": "markdown",
      "metadata": {
        "id": "dwFpRTYCn_Yo"
      },
      "source": [
        "**Objetivo:**\n",
        "1. Importar a biblioteca Numpy\n",
        "2. Definir a função normal\n",
        "3. Importar a biblioteca matplotlib\n",
        "4. Construir gráficos da distribuição normal"
      ]
    },
    {
      "cell_type": "markdown",
      "metadata": {
        "id": "7U4MsPJso_Cx"
      },
      "source": [
        "![image.png](data:image/png;base64,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)"
      ]
    },
    {
      "cell_type": "markdown",
      "metadata": {
        "id": "E9RYL6x7_AxO"
      },
      "source": [
        "**Numpy**\n",
        "\n",
        "Numpy é uma biblioteca Python de código aberto criada em 2005 por Travis Oliphant e \n",
        "significa Numerical Python. Possui funções para trabalhar com arrays e matrizes \n",
        "(estruturas de dados), álgebra linear e transformada de Fourier, entre outras aplicações. "
      ]
    },
    {
      "cell_type": "code",
      "metadata": {
        "id": "2CuuZ1M3pYV-"
      },
      "source": [
        "# Importando a biblioteca Numpy\n",
        "import numpy as np\n"
      ],
      "execution_count": null,
      "outputs": []
    },
    {
      "cell_type": "markdown",
      "metadata": {
        "id": "l_9CkGXj_UzP"
      },
      "source": [
        "**Utilizaremos:**\n",
        "* Constante pi (**np.pi**)\n",
        "* Função esponencial (**np.exp()**)\n",
        "* Função raiz quadrada (**np.sqrt()**)"
      ]
    },
    {
      "cell_type": "code",
      "metadata": {
        "id": "QJXD44pHn1Hh"
      },
      "source": [
        "# Definindo a função normal\n"
      ],
      "execution_count": null,
      "outputs": []
    },
    {
      "cell_type": "code",
      "metadata": {
        "id": "_RUNsrZ7BAZm"
      },
      "source": [
        "def N(x, md=0, dp=1):\n",
        "  a = (1/(dp*np.sqrt(2*np.pi)))\n",
        "  \n",
        "  b = np.exp(-0.5*((x-md)/dp)**2)\n",
        "\n",
        "  return a*b"
      ],
      "execution_count": null,
      "outputs": []
    },
    {
      "cell_type": "code",
      "metadata": {
        "colab": {
          "base_uri": "https://localhost:8080/"
        },
        "id": "qeVQWNHmDfz_",
        "outputId": "0298d289-79b6-445e-a070-1b0f807b802d"
      },
      "source": [
        "N(1)"
      ],
      "execution_count": null,
      "outputs": [
        {
          "output_type": "execute_result",
          "data": {
            "text/plain": [
              "0.24197072451914337"
            ]
          },
          "metadata": {
            "tags": []
          },
          "execution_count": 72
        }
      ]
    },
    {
      "cell_type": "markdown",
      "metadata": {
        "id": "udMVszYPJJX1"
      },
      "source": [
        "**Matplotlib**\n",
        "\n",
        "O Matplotlib é uma biblioteca Python de código aberto criado por John D. Hunter e sua \n",
        "finalidade é possibilitar a visualização de dados por meio de gráficos de baixo nível. "
      ]
    },
    {
      "cell_type": "code",
      "metadata": {
        "id": "kRfoEFZGrA6X"
      },
      "source": [
        "# Importando a biblioteca Matplotlib\n",
        "import matplotlib.pyplot as plt\n"
      ],
      "execution_count": null,
      "outputs": []
    },
    {
      "cell_type": "code",
      "metadata": {
        "colab": {
          "base_uri": "https://localhost:8080/",
          "height": 282
        },
        "id": "gKyBy7cDtda7",
        "outputId": "dea775af-5452-4bc2-e869-229ea2403d45"
      },
      "source": [
        "# Criando um vetor com intervalo [-4,4] com incremento de 0,01\n",
        "x = np.arange(-4,4,0.01)\n",
        "# Construindo o gráfico\n",
        "plt.plot(x,N(x))\n"
      ],
      "execution_count": null,
      "outputs": [
        {
          "output_type": "execute_result",
          "data": {
            "text/plain": [
              "[<matplotlib.lines.Line2D at 0x7f53d3cb4f90>]"
            ]
          },
          "metadata": {
            "tags": []
          },
          "execution_count": 75
        },
        {
          "output_type": "display_data",
          "data": {
            "image/png": "[encoded data removed]",
            "text/plain": [
              "<Figure size 432x288 with 1 Axes>"
            ]
          },
          "metadata": {
            "tags": [],
            "needs_background": "light"
          }
        }
      ]
    },
    {
      "cell_type": "markdown",
      "metadata": {
        "id": "TkNzV68dLa1i"
      },
      "source": [
        "**Melhorando o gráfico**\n",
        "\n",
        "Vamos utilizar os valores da análise descritiva dos dados de peso para a construção do gráfico de probabilidade normal. "
      ]
    },
    {
      "cell_type": "code",
      "metadata": {
        "id": "7nD11_jEua87"
      },
      "source": [
        "# Média e desvio-padrão Peso A\n",
        "md1 = df['Peso A'].mean() \n",
        "dp1 = df['Peso A'].std()\n",
        "\n",
        "\n",
        "# Média e desvio-padrão Peso B\n",
        "\n",
        "md2 = df['Peso B'].mean()\n",
        "dp2 = df['Peso B'].std()\n"
      ],
      "execution_count": null,
      "outputs": []
    },
    {
      "cell_type": "code",
      "metadata": {
        "id": "LEu81O7MrIJW",
        "colab": {
          "base_uri": "https://localhost:8080/",
          "height": 350
        },
        "outputId": "c5778cce-a1a4-4d61-d061-2b295334ab5e"
      },
      "source": [
        "# Criando um vetor com intervalo [10,40] com incremento de 0,01\n",
        "x = np.arange(10,40,0.01)\n",
        "\n",
        "\n",
        "# Construindo e melhorando o gráfico\n",
        "plt.figure(figsize=(10,5))\n",
        "plt.plot(x, N(x, md= md1, dp= dp1), label = 'Peso A')\n",
        "plt.plot(x, N(x, md= md2, dp = dp2), label = 'Peso B')\n",
        "plt.grid()\n",
        "plt.title(\"Função normal\")\n",
        "plt.xlabel(\"X\")\n",
        "plt.ylabel(\"Y\")\n",
        "plt.legend()\n",
        "plt.show()\n",
        "\n",
        "\n"
      ],
      "execution_count": null,
      "outputs": [
        {
          "output_type": "display_data",
          "data": {
            "image/png": "[encoded data removed]",
            "text/plain": [
              "<Figure size 720x360 with 1 Axes>"
            ]
          },
          "metadata": {
            "tags": [],
            "needs_background": "light"
          }
        }
      ]
    },
    {
      "cell_type": "code",
      "metadata": {
        "id": "y8PZqbjaNJM8"
      },
      "source": [
        ""
      ],
      "execution_count": null,
      "outputs": []
    },
    {
      "cell_type": "markdown",
      "metadata": {
        "id": "aN9MVtUTNHf7"
      },
      "source": [
        "![Sem Título-5.png](data:image/png;base64,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)"
      ]
    },
    {
      "cell_type": "markdown",
      "metadata": {
        "id": "6eic6o2FOy4z"
      },
      "source": [
        "**Referências:**\n",
        "\n",
        "Professor Anibal Azevedo (Python para todos)\n",
        "\n",
        "https://www.youtube.com/user/atanibal/playlists?view=1&sort=dd&shelf_id=0\n",
        "\n",
        "W3 schools (Curso de Python)\n",
        "\n",
        "https://www.w3schools.com/python/ref_string_strip.asp\n",
        "\n"
      ]
    }
  ]
}